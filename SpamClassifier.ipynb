{
 "cells": [
  {
   "cell_type": "markdown",
   "metadata": {},
   "source": [
    "# Get the Data"
   ]
  },
  {
   "cell_type": "code",
   "execution_count": 57,
   "metadata": {},
   "outputs": [],
   "source": [
    "import os\n",
    "\n",
    "DATASETS_DIR = 'datasets'\n",
    "MODELS_DIR = 'models'\n",
    "TAR_DIR = os.path.join(DATASETS_DIR, 'tar')\n",
    "\n",
    "SPAM_URL = 'https://spamassassin.apache.org/old/publiccorpus/20050311_spam_2.tar.bz2'\n",
    "EASY_HAM_URL = 'https://spamassassin.apache.org/old/publiccorpus/20030228_easy_ham_2.tar.bz2'\n",
    "HARD_HAM_URL = 'https://spamassassin.apache.org/old/publiccorpus/20030228_hard_ham.tar.bz2'"
   ]
  },
  {
   "cell_type": "code",
   "execution_count": 2,
   "metadata": {},
   "outputs": [],
   "source": [
    "from urllib.request import urlretrieve\n",
    "import tarfile\n",
    "import shutil\n",
    "\n",
    "def download_dataset(url):\n",
    "    \"\"\"download and unzip data from a url into the specified path\"\"\"\n",
    "    \n",
    "    # create directory if it doesn't exist\n",
    "    if not os.path.isdir(TAR_DIR):\n",
    "        os.makedirs(TAR_DIR)\n",
    "    \n",
    "    filename = url.rsplit('/', 1)[-1]\n",
    "    tarpath = os.path.join(TAR_DIR, filename)\n",
    "    \n",
    "    # download the tar file if it doesn't exist\n",
    "    try:\n",
    "        tarfile.open(tarpath)\n",
    "    except:\n",
    "        urlretrieve(url, tarpath)\n",
    "    \n",
    "    with tarfile.open(tarpath) as tar:\n",
    "        dirname = os.path.join(DATASETS_DIR, tar.getnames()[0])\n",
    "        if os.path.isdir(dirname):\n",
    "            shutil.rmtree(dirname)\n",
    "        tar.extractall(path=DATASETS_DIR)\n",
    "        \n",
    "        cmds_path = os.path.join(dirname, 'cmds')\n",
    "        if os.path.isfile(cmds_path):\n",
    "            os.remove(cmds_path)\n",
    "    \n",
    "    return dirname"
   ]
  },
  {
   "cell_type": "code",
   "execution_count": 3,
   "metadata": {},
   "outputs": [],
   "source": [
    "# download the data\n",
    "spam_dir = download_dataset(SPAM_URL)"
   ]
  },
  {
   "cell_type": "code",
   "execution_count": 4,
   "metadata": {},
   "outputs": [],
   "source": [
    "easy_ham_dir = download_dataset(EASY_HAM_URL)"
   ]
  },
  {
   "cell_type": "code",
   "execution_count": 5,
   "metadata": {},
   "outputs": [],
   "source": [
    "hard_ham_dir = download_dataset(HARD_HAM_URL)"
   ]
  },
  {
   "cell_type": "code",
   "execution_count": 6,
   "metadata": {},
   "outputs": [],
   "source": [
    "import numpy as np\n",
    "import glob\n",
    "\n",
    "def load_dataset(dirpath):\n",
    "    \"\"\"load emails from the specified directory\"\"\"\n",
    "    \n",
    "    files = []\n",
    "    filepaths = glob.glob(dirpath + '/*')\n",
    "    for path in filepaths:\n",
    "        with open(path, 'rb') as f:\n",
    "            byte_content = f.read()\n",
    "            str_content = byte_content.decode('utf-8', errors='ignore')\n",
    "            files.append(str_content)\n",
    "    return files\n",
    "    "
   ]
  },
  {
   "cell_type": "code",
   "execution_count": 7,
   "metadata": {},
   "outputs": [],
   "source": [
    "# load the datasets\n",
    "spam = load_dataset(spam_dir)\n",
    "easy_ham = load_dataset(easy_ham_dir)\n",
    "hard_ham = load_dataset(hard_ham_dir)"
   ]
  },
  {
   "cell_type": "code",
   "execution_count": 8,
   "metadata": {},
   "outputs": [],
   "source": [
    "import sklearn.utils\n",
    "\n",
    "# create the full dataset\n",
    "X = spam + easy_ham + hard_ham\n",
    "y = np.concatenate((np.ones(len(spam)), np.zeros(len(easy_ham) + len(hard_ham))))\n",
    "\n",
    "# shuffle the dataset\n",
    "X, y = sklearn.utils.shuffle(X, y, random_state=42)"
   ]
  },
  {
   "cell_type": "code",
   "execution_count": null,
   "metadata": {},
   "outputs": [],
   "source": [
    "from sklearn.model_selection import train_test_split\n",
    "\n",
    "# split the data into stratified training and test sets\n",
    "X_train, X_test, y_train, y_test = train_test_split(X, y, test_size=0.2, stratify=y,\n",
    "                                                    random_state=42)"
   ]
  },
  {
   "cell_type": "code",
   "execution_count": 10,
   "metadata": {},
   "outputs": [
    {
     "name": "stdout",
     "output_type": "stream",
     "text": [
      "2436 2436\n",
      "610 610\n"
     ]
    }
   ],
   "source": [
    "# check dataset shapes\n",
    "print(len(X_train), len(y_train))\n",
    "print(len(X_test), len(y_test))"
   ]
  },
  {
   "cell_type": "markdown",
   "metadata": {},
   "source": [
    "# Data Preparation Pipeline"
   ]
  },
  {
   "cell_type": "code",
   "execution_count": 11,
   "metadata": {},
   "outputs": [],
   "source": [
    "def remove_header(email):\n",
    "    \"\"\"remove the header from an email\"\"\"\n",
    "    return email[email.index('\\n\\n'):]"
   ]
  },
  {
   "cell_type": "code",
   "execution_count": 12,
   "metadata": {},
   "outputs": [],
   "source": [
    "import re \n",
    "  \n",
    "def is_url(s):\n",
    "    url = re.match(\"http[s]?://(?:[a-zA-Z]|[0-9]|[$-_@.&+]|\"\n",
    "                     \"[!*\\(\\), ]|(?:%[0-9a-fA-F][0-9a-fA-F]))+\", s)\n",
    "    return url is not None\n",
    "\n",
    "def convert_url_to_word(words):\n",
    "    \"\"\"convert all urls in the list to the word 'URL'\"\"\"\n",
    "    for i, word in enumerate(words):\n",
    "        if is_url(word):\n",
    "            words[i] = 'URL'\n",
    "    return words"
   ]
  },
  {
   "cell_type": "code",
   "execution_count": 13,
   "metadata": {},
   "outputs": [],
   "source": [
    "def convert_num_to_word(words):\n",
    "    \"\"\"convert all numbers in the list to the word 'NUM'\"\"\"\n",
    "    for i, word in enumerate(words):\n",
    "        if word.isdigit():\n",
    "            words[i] = 'NUM'\n",
    "    return words"
   ]
  },
  {
   "cell_type": "code",
   "execution_count": 14,
   "metadata": {},
   "outputs": [],
   "source": [
    "def remove_punctuation(email):\n",
    "    new_email = \"\"\n",
    "    for c in email:\n",
    "        if c.isalnum() or c.isspace():\n",
    "            new_email += c\n",
    "    return new_email"
   ]
  },
  {
   "cell_type": "code",
   "execution_count": 15,
   "metadata": {},
   "outputs": [],
   "source": [
    "from sklearn.base import BaseEstimator, TransformerMixin\n",
    "\n",
    "class CleanEmails(BaseEstimator, TransformerMixin):\n",
    "    def __init__(self, no_header=True, to_lowercase=True, url_to_word=True, num_to_word=True,\n",
    "                 remove_punc=True, stemming=True):\n",
    "        self.no_header = no_header\n",
    "        self.to_lowercase = to_lowercase\n",
    "        self.url_to_word = url_to_word\n",
    "        self.num_to_word = num_to_word\n",
    "        self.remove_punc = remove_punc\n",
    "        self.stemming = stemming\n",
    "    \n",
    "    def fit(self, X, y=None):\n",
    "        return self\n",
    "    \n",
    "    def transform(self, X, y=None):\n",
    "        X_cleaned = []\n",
    "        for email in X:\n",
    "            if self.no_header:\n",
    "                email = remove_header(email)\n",
    "            if self.to_lowercase:\n",
    "                email = email.lower()\n",
    "            \n",
    "            email_words = email.split()\n",
    "            if self.url_to_word:\n",
    "                email_words = convert_url_to_word(email_words)\n",
    "            if self.num_to_word:\n",
    "                email_words = convert_num_to_word(email_words)\n",
    "            email = ' '.join(email_words)\n",
    "            if self.remove_punc:\n",
    "                email = remove_punctuation(email)\n",
    "            if self.stemming:\n",
    "                # TODO: stem words\n",
    "                pass\n",
    "            X_cleaned.append(email)\n",
    "        return X_cleaned\n",
    "        "
   ]
  },
  {
   "cell_type": "code",
   "execution_count": 16,
   "metadata": {},
   "outputs": [],
   "source": [
    "from collections import Counter\n",
    "\n",
    "# this transformer is very inefficient, use CountVectorizer instead\n",
    "class BagOfWords(BaseEstimator, TransformerMixin):\n",
    "    def __init__(self):\n",
    "        self.word_keys = None\n",
    "        self.unk_index = -1\n",
    "    \n",
    "    def fit(self, X, y=None):\n",
    "        # generate word keys\n",
    "        self.word_keys = set()\n",
    "        for email in X:\n",
    "            email = email.split()\n",
    "            self.word_keys.update(set(email))\n",
    "            \n",
    "        self.word_keys.add('UNK')\n",
    "        self.word_keys = list(self.word_keys)\n",
    "        self.unk_index = self.word_keys.index('UNK')\n",
    "        print(len(self.word_keys))\n",
    "        return self\n",
    "    \n",
    "    def transform(self, X, y=None):\n",
    "        bagged_X = []\n",
    "        \n",
    "        for email in X:\n",
    "            email = email.split()\n",
    "            \n",
    "            # convert to bag of words\n",
    "            count = Counter(email)\n",
    "            x = np.zeros(len(self.word_keys))\n",
    "            for key in count:\n",
    "                key_index = self.word_keys.index(key)\n",
    "                if key_index != -1:\n",
    "                    x[key_index] = count[key]\n",
    "                else:\n",
    "                    x[unk_index] = count[key]\n",
    "            \n",
    "            bagged_X.append(x)\n",
    "\n",
    "        bagged_X = np.array(bagged_X)\n",
    "        return bagged_X"
   ]
  },
  {
   "cell_type": "code",
   "execution_count": 17,
   "metadata": {},
   "outputs": [],
   "source": [
    "from sklearn.pipeline import Pipeline\n",
    "from sklearn.feature_extraction.text import CountVectorizer\n",
    "\n",
    "# full preparation pipeline\n",
    "prepare_pipeline = Pipeline([\n",
    "    ('clean_email', CleanEmails()),\n",
    "    ('bag_of_words', CountVectorizer())\n",
    "])"
   ]
  },
  {
   "cell_type": "code",
   "execution_count": 18,
   "metadata": {},
   "outputs": [],
   "source": [
    "# prepare the training data\n",
    "X_train_prepared = prepare_pipeline.fit_transform(X_train)"
   ]
  },
  {
   "cell_type": "code",
   "execution_count": 19,
   "metadata": {},
   "outputs": [
    {
     "name": "stdout",
     "output_type": "stream",
     "text": [
      "(2436, 94842)\n"
     ]
    }
   ],
   "source": [
    "print(X_train_prepared.shape)"
   ]
  },
  {
   "cell_type": "markdown",
   "metadata": {},
   "source": [
    "# Train and Evaluate some Classifiers"
   ]
  },
  {
   "cell_type": "markdown",
   "metadata": {},
   "source": [
    "## Classifiers to try\n",
    "- SGDClassifier\n",
    "- MLPClassifier\n",
    "- DecisionTreeClassifier\n",
    "- RandomForestClassifier\n",
    "- AdaBoostClassifier\n",
    "- KNNClassifier\n",
    "- SVC"
   ]
  },
  {
   "cell_type": "markdown",
   "metadata": {},
   "source": [
    "## How to evaluate each classifier\n",
    "- Using 3-fold cross validation:\n",
    " - Evaluate accuracy\n",
    " - Calculate the confusion matrix, precision, recall and f1-score\n",
    "- Select some promising models\n",
    " - For models that implement decision_function() or predict_probas(),\n",
    "  - Plot the precision vs recall curve\n",
    "  - Plot ROC curve and calculate the ROC AUC\n",
    "- Pick the classifier with best precision and recall"
   ]
  },
  {
   "cell_type": "code",
   "execution_count": 66,
   "metadata": {},
   "outputs": [],
   "source": [
    "from sklearn.metrics import confusion_matrix\n",
    "from sklearn.metrics import precision_score, recall_score, f1_score\n",
    "\n",
    "def eval_confusion(y_pred, y_true=y_train):\n",
    "    conf_matrix = confusion_matrix(y_true, y_pred)\n",
    "    precision = precision_score(y_true, y_pred)\n",
    "    recall = recall_score(y_true, y_pred)\n",
    "    f1 = f1_score(y_true, y_pred)\n",
    "    return {'matrix': conf_matrix, 'precision': precision, 'recall': recall, 'f1': f1}"
   ]
  },
  {
   "cell_type": "code",
   "execution_count": 21,
   "metadata": {},
   "outputs": [],
   "source": [
    "import matplotlib as mpl\n",
    "import matplotlib.pyplot as plt"
   ]
  },
  {
   "cell_type": "code",
   "execution_count": 22,
   "metadata": {},
   "outputs": [],
   "source": [
    "from sklearn.metrics import precision_recall_curve\n",
    "\n",
    "def plot_precision_recall_vs_thresholds(model, threshold=0, cv=3):\n",
    "    \"\"\"plot precision and recall vs threshold, highlight the specified threshold\"\"\"\n",
    "    \n",
    "    # calculate scores and precisions and recalls at different thresholds\n",
    "    y_scores = cross_val_predict(model, X_train_prepared, y_train, cv=cv,\n",
    "                                 method='decision_function')\n",
    "    precisions, recalls, thresholds = precision_recall_curve(y_train, y_scores)\n",
    "    \n",
    "    # plot the precision and recall curves\n",
    "    mpl.style.use('default')\n",
    "    plt.figure(figsize=(8, 5))\n",
    "    plt.plot(thresholds, precisions[:-1], 'b--', label='Precision')\n",
    "    plt.plot(thresholds, recalls[:-1], 'g-', label='Recall')\n",
    "    plt.legend(loc='lower right')\n",
    "    plt.grid(True)\n",
    "    plt.xlabel('Threshold')\n",
    "    \n",
    "    # highlight the threshold\n",
    "    y_pred = y_scores > threshold\n",
    "    hl_precision = precision_score(y_train, y_pred)\n",
    "    hl_recall = recall_score(y_train, y_pred)\n",
    "    min_threshold = thresholds.min()\n",
    "    \n",
    "    plt.plot([min_threshold, threshold], [hl_precision, hl_precision], 'r:')\n",
    "    plt.plot([min_threshold, threshold], [hl_recall, hl_recall], 'r:')\n",
    "    plt.plot([threshold, threshold], [0, max(hl_precision, hl_recall)], 'r:')\n",
    "    plt.plot([threshold], [hl_precision], 'ro')\n",
    "    plt.plot([threshold], [hl_recall], 'ro')\n",
    "    "
   ]
  },
  {
   "cell_type": "code",
   "execution_count": 25,
   "metadata": {},
   "outputs": [],
   "source": [
    "import warnings\n",
    "\n",
    "# stop scikit-learn's deprecation warnings\n",
    "warnings.filterwarnings(\"ignore\", category=FutureWarning)"
   ]
  },
  {
   "cell_type": "code",
   "execution_count": 26,
   "metadata": {},
   "outputs": [],
   "source": [
    "from sklearn.linear_model import SGDClassifier\n",
    "from sklearn.neural_network import MLPClassifier\n",
    "from sklearn.tree import DecisionTreeClassifier\n",
    "from sklearn.ensemble import RandomForestClassifier\n",
    "from sklearn.ensemble import AdaBoostClassifier\n",
    "from sklearn.neighbors import KNeighborsClassifier\n",
    "from sklearn.svm import SVC\n",
    "\n",
    "# classification models\n",
    "sgd_clf = SGDClassifier(random_state=42, max_iter=100)\n",
    "mlp_clf = MLPClassifier(hidden_layer_sizes=(16,))\n",
    "tree_clf = DecisionTreeClassifier()\n",
    "forest_clf = RandomForestClassifier()\n",
    "adaboost_clf = AdaBoostClassifier()\n",
    "knn_clf = KNeighborsClassifier()\n",
    "svm_clf = SVC()\n",
    "\n",
    "classifiers = {\n",
    "    'SGD': sgd_clf,\n",
    "    'Decision Tree': tree_clf,\n",
    "    'Random Forest': forest_clf,\n",
    "    'AdaBoost': adaboost_clf,\n",
    "    'KNN': knn_clf,\n",
    "    'SVM': svm_clf,\n",
    "    'MLP': mlp_clf\n",
    "}"
   ]
  },
  {
   "cell_type": "code",
   "execution_count": 27,
   "metadata": {},
   "outputs": [],
   "source": [
    "from sklearn.model_selection import cross_val_predict\n",
    "\n",
    "# make predictions using each model\n",
    "y_preds = {}\n",
    "for clf_name, clf in classifiers.items():\n",
    "    y_preds[clf_name] = cross_val_predict(clf, X_train_prepared, y_train, cv=3)"
   ]
  },
  {
   "cell_type": "code",
   "execution_count": 28,
   "metadata": {},
   "outputs": [
    {
     "name": "stdout",
     "output_type": "stream",
     "text": [
      "SGD:\n",
      "0.9527914614121511\n",
      "\n",
      "Decision Tree:\n",
      "0.9158456486042693\n",
      "\n",
      "Random Forest:\n",
      "0.9334975369458128\n",
      "\n",
      "AdaBoost:\n",
      "0.9466338259441708\n",
      "\n",
      "KNN:\n",
      "0.9055829228243021\n",
      "\n",
      "SVM:\n",
      "0.6711822660098522\n",
      "\n",
      "MLP:\n",
      "0.9745484400656814\n",
      "\n"
     ]
    }
   ],
   "source": [
    "from sklearn.metrics import accuracy_score\n",
    "\n",
    "# evaluate each classifier's accuracy\n",
    "for clf_name, y_pred in y_preds.items():\n",
    "    print(\"{}:\".format(clf_name))\n",
    "    print(accuracy_score(y_train, y_pred))\n",
    "    print()"
   ]
  },
  {
   "cell_type": "code",
   "execution_count": 29,
   "metadata": {},
   "outputs": [
    {
     "name": "stdout",
     "output_type": "stream",
     "text": [
      "SGD:\n",
      "[[1262   58]\n",
      " [  57 1059]]\n",
      "precision: 0.9480752014324082\n",
      "recall: 0.9489247311827957\n",
      "f1-score: 0.948499776085983\n",
      "\n",
      "Decision Tree:\n",
      "[[1213  107]\n",
      " [  98 1018]]\n",
      "precision: 0.9048888888888889\n",
      "recall: 0.9121863799283154\n",
      "f1-score: 0.9085229808121374\n",
      "\n",
      "Random Forest:\n",
      "[[1269   51]\n",
      " [ 111 1005]]\n",
      "precision: 0.9517045454545454\n",
      "recall: 0.9005376344086021\n",
      "f1-score: 0.925414364640884\n",
      "\n",
      "AdaBoost:\n",
      "[[1252   68]\n",
      " [  62 1054]]\n",
      "precision: 0.9393939393939394\n",
      "recall: 0.9444444444444444\n",
      "f1-score: 0.9419124218051832\n",
      "\n",
      "KNN:\n",
      "[[1217  103]\n",
      " [ 127  989]]\n",
      "precision: 0.9056776556776557\n",
      "recall: 0.8862007168458781\n",
      "f1-score: 0.8958333333333333\n",
      "\n",
      "SVM:\n",
      "[[1288   32]\n",
      " [ 769  347]]\n",
      "precision: 0.9155672823218998\n",
      "recall: 0.3109318996415771\n",
      "f1-score: 0.46421404682274253\n",
      "\n",
      "MLP:\n",
      "[[1286   34]\n",
      " [  28 1088]]\n",
      "precision: 0.9696969696969697\n",
      "recall: 0.974910394265233\n",
      "f1-score: 0.9722966934763182\n",
      "\n"
     ]
    }
   ],
   "source": [
    "# evaluate the confusion matrix, precision, recall and f1 score for each classifier\n",
    "for clf_name, y_pred in y_preds.items():\n",
    "    conf = eval_confusion(y_pred)\n",
    "    print(\"{}:\".format(clf_name))\n",
    "    print(conf['matrix'])\n",
    "    print(\"precision: {}\".format(conf['precision']))\n",
    "    print(\"recall: {}\".format(conf['recall']))\n",
    "    print(\"f1-score: {}\".format(conf['f1']))\n",
    "    print()"
   ]
  },
  {
   "cell_type": "markdown",
   "metadata": {},
   "source": [
    "- SVM doesn't seem to be promising\n",
    "- Best model so far is the MLP classifier\n",
    "- Second best model is the SGD classifier"
   ]
  },
  {
   "cell_type": "code",
   "execution_count": 46,
   "metadata": {},
   "outputs": [],
   "source": [
    "from sklearn.model_selection import cross_val_predict\n",
    "\n",
    "# calculate scores for each model\n",
    "y_scores = {}\n",
    "clf_thresholds = {}\n",
    "\n",
    "for clf_name, clf in classifiers.items():\n",
    "    method = 'predict_proba'\n",
    "    if not hasattr(clf, 'predict_proba') and hasattr(clf, 'decision_function'):\n",
    "        method = 'decision_function'\n",
    "    y_scores[clf_name] = cross_val_predict(clf, X_train_prepared, y_train, cv=3,\n",
    "                                           method=method)\n",
    "    if method == 'predict_proba':\n",
    "        y_scores[clf_name] = y_scores[clf_name][:,1]\n",
    "        clf_thresholds[clf_name] = 0.5\n",
    "    else:\n",
    "        clf_thresholds[clf_name] = 0"
   ]
  },
  {
   "cell_type": "code",
   "execution_count": 47,
   "metadata": {},
   "outputs": [],
   "source": [
    "def plot_precision_vs_recall(y_scores, threshold=0, label=None, style='b-'):\n",
    "    \"\"\"plot precision vs recall for different thresholds, highlight the specified threshold\"\"\"\n",
    "    \n",
    "    # calculate scores and precisions and recalls at different thresholds\n",
    "    precisions, recalls, thresholds = precision_recall_curve(y_train, y_scores)\n",
    "    \n",
    "    # plot the precision and recall curves\n",
    "    plt.plot(recalls, precisions, style, label=label)\n",
    "    \n",
    "    # highlight the threshold\n",
    "    y_pred = y_scores >= threshold\n",
    "    hl_precision = precision_score(y_train, y_pred)\n",
    "    hl_recall = recall_score(y_train, y_pred)\n",
    "    \n",
    "    plt.plot([0, hl_recall], [hl_precision, hl_precision], 'r:')\n",
    "    plt.plot([hl_recall, hl_recall], [0, hl_precision], 'r:')\n",
    "    plt.plot([hl_recall], [hl_precision], 'ro')"
   ]
  },
  {
   "cell_type": "code",
   "execution_count": 48,
   "metadata": {},
   "outputs": [
    {
     "data": {
      "image/png": "[encoded data removed]",
      "text/plain": [
       "<Figure size 800x500 with 1 Axes>"
      ]
     },
     "metadata": {},
     "output_type": "display_data"
    }
   ],
   "source": [
    "# plot recall vs precision for each model\n",
    "mpl.style.use('default')\n",
    "plt.figure(figsize=(8, 5))\n",
    "\n",
    "styles = {\n",
    "    'SGD': 'r--',\n",
    "    'Decision Tree': 'g--',\n",
    "    'Random Forest': 'b--',\n",
    "    'AdaBoost': 'k--',\n",
    "    'KNN': 'y--',\n",
    "    'SVM': 'c--',\n",
    "    'MLP': 'm--'\n",
    "}\n",
    "\n",
    "for clf_name, y_score in y_scores.items():\n",
    "    plot_precision_vs_recall(y_score, threshold=clf_thresholds[clf_name], label=clf_name,\n",
    "                             style=styles[clf_name])\n",
    "    \n",
    "plt.grid(True)\n",
    "plt.xlabel('Recall')\n",
    "plt.ylabel('Precision')\n",
    "plt.legend(loc='lower right')\n",
    "plt.show()"
   ]
  },
  {
   "cell_type": "markdown",
   "metadata": {},
   "source": [
    "- SVM seems to have a good enough precision and about 0.9 recall\n",
    "- The other classifiers have the best recall/precision tradeoffs at the default thresholds"
   ]
  },
  {
   "cell_type": "code",
   "execution_count": 49,
   "metadata": {},
   "outputs": [
    {
     "name": "stdout",
     "output_type": "stream",
     "text": [
      "precision: 0.8494077834179357\n",
      "recall: 0.899641577060932\n"
     ]
    }
   ],
   "source": [
    "# SVM at about 0.9 recall\n",
    "svm_precisions, svm_recalls, svm_thresholds = precision_recall_curve(y_train, y_scores['SVM'])\n",
    "svm_good_threshold = svm_thresholds[np.argmax((svm_recalls <= 0.9))]\n",
    "svm_y_pred_good_th = y_scores['SVM'] >= svm_good_threshold\n",
    "y_thresholds['SVM'] = svm_good_threshold\n",
    "\n",
    "print()\n",
    "print(\"precision: {}\".format(precision_score(y_train, svm_y_pred_good_th)))\n",
    "print(\"recall: {}\".format(recall_score(y_train, svm_y_pred_good_th)))"
   ]
  },
  {
   "cell_type": "code",
   "execution_count": 52,
   "metadata": {},
   "outputs": [],
   "source": [
    "from sklearn.metrics import roc_curve\n",
    "\n",
    "def plot_roc(y_scores, threshold=0, label=None, style='b-'):\n",
    "    \"\"\"plot the ROC curve\"\"\"\n",
    "    \n",
    "    fpr, tpr, thresholds = roc_curve(y_train, y_scores)\n",
    "    \n",
    "    # plot the ROC curve\n",
    "    plt.plot(fpr, tpr, style, label=label)\n",
    "    \n",
    "    # false positive rate: false positives / true negatives + false positives\n",
    "    # true positive rate (recall): true positives / (true positives + false negatives)\n",
    "    # highlight the threshold\n",
    "    y_pred = y_scores > threshold\n",
    "    hl_fp = np.sum(np.logical_and(y_pred == True, y_train == 0))\n",
    "    hl_tp = np.sum(np.logical_and(y_pred == True, y_train == 1))\n",
    "    hl_fpr = hl_fp / np.sum(y_train == 0)\n",
    "    hl_tpr = hl_tp / np.sum(y_train == 1)\n",
    "    \n",
    "    plt.plot([0, hl_fpr], [hl_tpr, hl_tpr], 'r:')\n",
    "    plt.plot([hl_fpr, hl_fpr], [0, hl_tpr], 'r:')\n",
    "    plt.plot([hl_fpr], [hl_tpr], 'ro')"
   ]
  },
  {
   "cell_type": "code",
   "execution_count": 53,
   "metadata": {},
   "outputs": [
    {
     "data": {
      "image/png": "[encoded data removed]",
      "text/plain": [
       "<Figure size 800x500 with 1 Axes>"
      ]
     },
     "metadata": {},
     "output_type": "display_data"
    }
   ],
   "source": [
    "# plot ROC curve for each model\n",
    "mpl.style.use('default')\n",
    "plt.figure(figsize=(8, 5))\n",
    "\n",
    "# ROC for purely random classifier\n",
    "plt.plot([0, 1], [0, 1], 'k--')\n",
    "\n",
    "for clf_name, y_score in y_scores.items():\n",
    "    plot_roc(y_score, threshold=clf_thresholds[clf_name], label=clf_name, style=styles[clf_name])\n",
    "    \n",
    "plt.grid(True)\n",
    "plt.xlabel('False Positive Rate')\n",
    "plt.ylabel('True Positive Rate (Recall)')\n",
    "plt.legend(loc='lower right')\n",
    "plt.show()"
   ]
  },
  {
   "cell_type": "code",
   "execution_count": 56,
   "metadata": {},
   "outputs": [
    {
     "name": "stdout",
     "output_type": "stream",
     "text": [
      "ROC AUC scores:\n",
      "- SGD: 0.9755885467579017\n",
      "- Decision Tree: 0.9185239491691104\n",
      "- Random Forest: 0.9848125067883132\n",
      "- AdaBoost: 0.9848912512218964\n",
      "- KNN: 0.9544782502443794\n",
      "- SVM: 0.9358735201477136\n",
      "- MLP: 0.9876832844574781\n"
     ]
    }
   ],
   "source": [
    "# calculate all ROC AUCs\n",
    "from sklearn.metrics import roc_auc_score\n",
    "\n",
    "print(\"ROC AUC scores:\")\n",
    "for clf_name, y_score in y_scores.items():\n",
    "    roc_auc = roc_auc_score(y_train, y_score)\n",
    "    print(\"- {}: {}\".format(clf_name, roc_auc))"
   ]
  },
  {
   "cell_type": "markdown",
   "metadata": {},
   "source": [
    "## Best classifiers to fine-tune:\n",
    "- MLP\n",
    "- AdaBoost\n",
    "- SVM"
   ]
  },
  {
   "cell_type": "markdown",
   "metadata": {},
   "source": [
    "# Fine-tune the Best Classifiers"
   ]
  },
  {
   "cell_type": "markdown",
   "metadata": {},
   "source": [
    "## To fine-tune each model:\n",
    "- Use Grid Search or Random Search depending on the model type and use 5-fold CV\n",
    "- Save each model to a file\n",
    "- Evaluate the model on the test set"
   ]
  },
  {
   "cell_type": "code",
   "execution_count": 65,
   "metadata": {},
   "outputs": [
    {
     "name": "stdout",
     "output_type": "stream",
     "text": [
      "Fitting 5 folds for each of 9 candidates, totalling 45 fits\n",
      "[CV] activation=relu, hidden_layer_sizes=(16,) .......................\n"
     ]
    },
    {
     "name": "stderr",
     "output_type": "stream",
     "text": [
      "[Parallel(n_jobs=1)]: Using backend SequentialBackend with 1 concurrent workers.\n"
     ]
    },
    {
     "name": "stdout",
     "output_type": "stream",
     "text": [
      "[CV] ........ activation=relu, hidden_layer_sizes=(16,), total=  25.6s\n",
      "[CV] activation=relu, hidden_layer_sizes=(16,) .......................\n"
     ]
    },
    {
     "name": "stderr",
     "output_type": "stream",
     "text": [
      "[Parallel(n_jobs=1)]: Done   1 out of   1 | elapsed:   25.6s remaining:    0.0s\n"
     ]
    },
    {
     "name": "stdout",
     "output_type": "stream",
     "text": [
      "[CV] ........ activation=relu, hidden_layer_sizes=(16,), total=  24.5s\n",
      "[CV] activation=relu, hidden_layer_sizes=(16,) .......................\n",
      "[CV] ........ activation=relu, hidden_layer_sizes=(16,), total=  24.8s\n",
      "[CV] activation=relu, hidden_layer_sizes=(16,) .......................\n",
      "[CV] ........ activation=relu, hidden_layer_sizes=(16,), total=  27.4s\n",
      "[CV] activation=relu, hidden_layer_sizes=(16,) .......................\n",
      "[CV] ........ activation=relu, hidden_layer_sizes=(16,), total=  28.5s\n",
      "[CV] activation=relu, hidden_layer_sizes=(16, 16) ....................\n",
      "[CV] ..... activation=relu, hidden_layer_sizes=(16, 16), total=  24.7s\n",
      "[CV] activation=relu, hidden_layer_sizes=(16, 16) ....................\n",
      "[CV] ..... activation=relu, hidden_layer_sizes=(16, 16), total=  24.0s\n",
      "[CV] activation=relu, hidden_layer_sizes=(16, 16) ....................\n",
      "[CV] ..... activation=relu, hidden_layer_sizes=(16, 16), total=  25.5s\n",
      "[CV] activation=relu, hidden_layer_sizes=(16, 16) ....................\n",
      "[CV] ..... activation=relu, hidden_layer_sizes=(16, 16), total=  25.2s\n",
      "[CV] activation=relu, hidden_layer_sizes=(16, 16) ....................\n",
      "[CV] ..... activation=relu, hidden_layer_sizes=(16, 16), total=  22.0s\n",
      "[CV] activation=relu, hidden_layer_sizes=(32,) .......................\n",
      "[CV] ........ activation=relu, hidden_layer_sizes=(32,), total=  40.8s\n",
      "[CV] activation=relu, hidden_layer_sizes=(32,) .......................\n",
      "[CV] ........ activation=relu, hidden_layer_sizes=(32,), total=  40.7s\n",
      "[CV] activation=relu, hidden_layer_sizes=(32,) .......................\n",
      "[CV] ........ activation=relu, hidden_layer_sizes=(32,), total=  43.3s\n",
      "[CV] activation=relu, hidden_layer_sizes=(32,) .......................\n",
      "[CV] ........ activation=relu, hidden_layer_sizes=(32,), total=  41.9s\n",
      "[CV] activation=relu, hidden_layer_sizes=(32,) .......................\n",
      "[CV] ........ activation=relu, hidden_layer_sizes=(32,), total=  42.3s\n",
      "[CV] activation=tanh, hidden_layer_sizes=(16,) .......................\n",
      "[CV] ........ activation=tanh, hidden_layer_sizes=(16,), total=  18.4s\n",
      "[CV] activation=tanh, hidden_layer_sizes=(16,) .......................\n",
      "[CV] ........ activation=tanh, hidden_layer_sizes=(16,), total=  21.1s\n",
      "[CV] activation=tanh, hidden_layer_sizes=(16,) .......................\n",
      "[CV] ........ activation=tanh, hidden_layer_sizes=(16,), total=  20.5s\n",
      "[CV] activation=tanh, hidden_layer_sizes=(16,) .......................\n",
      "[CV] ........ activation=tanh, hidden_layer_sizes=(16,), total=  20.2s\n",
      "[CV] activation=tanh, hidden_layer_sizes=(16,) .......................\n",
      "[CV] ........ activation=tanh, hidden_layer_sizes=(16,), total=  22.1s\n",
      "[CV] activation=tanh, hidden_layer_sizes=(16, 16) ....................\n",
      "[CV] ..... activation=tanh, hidden_layer_sizes=(16, 16), total=  18.2s\n",
      "[CV] activation=tanh, hidden_layer_sizes=(16, 16) ....................\n",
      "[CV] ..... activation=tanh, hidden_layer_sizes=(16, 16), total=  18.3s\n",
      "[CV] activation=tanh, hidden_layer_sizes=(16, 16) ....................\n",
      "[CV] ..... activation=tanh, hidden_layer_sizes=(16, 16), total=  17.9s\n",
      "[CV] activation=tanh, hidden_layer_sizes=(16, 16) ....................\n",
      "[CV] ..... activation=tanh, hidden_layer_sizes=(16, 16), total=  17.7s\n",
      "[CV] activation=tanh, hidden_layer_sizes=(16, 16) ....................\n",
      "[CV] ..... activation=tanh, hidden_layer_sizes=(16, 16), total=  15.9s\n",
      "[CV] activation=tanh, hidden_layer_sizes=(32,) .......................\n",
      "[CV] ........ activation=tanh, hidden_layer_sizes=(32,), total=  40.9s\n",
      "[CV] activation=tanh, hidden_layer_sizes=(32,) .......................\n",
      "[CV] ........ activation=tanh, hidden_layer_sizes=(32,), total=  38.5s\n",
      "[CV] activation=tanh, hidden_layer_sizes=(32,) .......................\n",
      "[CV] ........ activation=tanh, hidden_layer_sizes=(32,), total=  39.6s\n",
      "[CV] activation=tanh, hidden_layer_sizes=(32,) .......................\n",
      "[CV] ........ activation=tanh, hidden_layer_sizes=(32,), total=  43.0s\n",
      "[CV] activation=tanh, hidden_layer_sizes=(32,) .......................\n",
      "[CV] ........ activation=tanh, hidden_layer_sizes=(32,), total=  41.7s\n",
      "[CV] activation=logistic, hidden_layer_sizes=(16,) ...................\n",
      "[CV] .... activation=logistic, hidden_layer_sizes=(16,), total=  50.7s\n",
      "[CV] activation=logistic, hidden_layer_sizes=(16,) ...................\n",
      "[CV] .... activation=logistic, hidden_layer_sizes=(16,), total= 1.0min\n",
      "[CV] activation=logistic, hidden_layer_sizes=(16,) ...................\n",
      "[CV] .... activation=logistic, hidden_layer_sizes=(16,), total=  46.8s\n",
      "[CV] activation=logistic, hidden_layer_sizes=(16,) ...................\n",
      "[CV] .... activation=logistic, hidden_layer_sizes=(16,), total=  57.9s\n",
      "[CV] activation=logistic, hidden_layer_sizes=(16,) ...................\n",
      "[CV] .... activation=logistic, hidden_layer_sizes=(16,), total=  49.2s\n",
      "[CV] activation=logistic, hidden_layer_sizes=(16, 16) ................\n",
      "[CV] . activation=logistic, hidden_layer_sizes=(16, 16), total=  48.7s\n",
      "[CV] activation=logistic, hidden_layer_sizes=(16, 16) ................\n",
      "[CV] . activation=logistic, hidden_layer_sizes=(16, 16), total=  56.5s\n",
      "[CV] activation=logistic, hidden_layer_sizes=(16, 16) ................\n",
      "[CV] . activation=logistic, hidden_layer_sizes=(16, 16), total=  53.1s\n",
      "[CV] activation=logistic, hidden_layer_sizes=(16, 16) ................\n",
      "[CV] . activation=logistic, hidden_layer_sizes=(16, 16), total= 1.1min\n",
      "[CV] activation=logistic, hidden_layer_sizes=(16, 16) ................\n",
      "[CV] . activation=logistic, hidden_layer_sizes=(16, 16), total=  51.6s\n",
      "[CV] activation=logistic, hidden_layer_sizes=(32,) ...................\n",
      "[CV] .... activation=logistic, hidden_layer_sizes=(32,), total= 1.5min\n",
      "[CV] activation=logistic, hidden_layer_sizes=(32,) ...................\n",
      "[CV] .... activation=logistic, hidden_layer_sizes=(32,), total= 1.4min\n",
      "[CV] activation=logistic, hidden_layer_sizes=(32,) ...................\n",
      "[CV] .... activation=logistic, hidden_layer_sizes=(32,), total= 1.5min\n",
      "[CV] activation=logistic, hidden_layer_sizes=(32,) ...................\n",
      "[CV] .... activation=logistic, hidden_layer_sizes=(32,), total= 1.5min\n",
      "[CV] activation=logistic, hidden_layer_sizes=(32,) ...................\n",
      "[CV] .... activation=logistic, hidden_layer_sizes=(32,), total= 1.4min\n"
     ]
    },
    {
     "name": "stderr",
     "output_type": "stream",
     "text": [
      "[Parallel(n_jobs=1)]: Done  45 out of  45 | elapsed: 30.6min finished\n"
     ]
    },
    {
     "data": {
      "text/plain": [
       "GridSearchCV(cv=5, error_score='raise-deprecating',\n",
       "       estimator=MLPClassifier(activation='relu', alpha=0.0001, batch_size='auto', beta_1=0.9,\n",
       "       beta_2=0.999, early_stopping=False, epsilon=1e-08,\n",
       "       hidden_layer_sizes=(100,), learning_rate='constant',\n",
       "       learning_rate_init=0.001, max_iter=200, momentum=0.9,\n",
       "       n_iter_no_change=10, nesterovs_momentum=True, power_t=0.5,\n",
       "       random_state=None, shuffle=True, solver='adam', tol=0.0001,\n",
       "       validation_fraction=0.1, verbose=False, warm_start=False),\n",
       "       fit_params=None, iid='warn', n_jobs=None,\n",
       "       param_grid={'hidden_layer_sizes': [(16,), (16, 16), (32,)], 'activation': ['relu', 'tanh', 'logistic']},\n",
       "       pre_dispatch='2*n_jobs', refit=True, return_train_score='warn',\n",
       "       scoring='f1', verbose=2)"
      ]
     },
     "execution_count": 65,
     "metadata": {},
     "output_type": "execute_result"
    }
   ],
   "source": [
    "from sklearn.model_selection import GridSearchCV\n",
    "\n",
    "# fine-tune MLP classifier\n",
    "mlp_best = MLPClassifier()\n",
    "mlp_param_grid = {\n",
    "    'hidden_layer_sizes': [(16,), (16, 16), (32,)],\n",
    "    'activation': ['relu', 'tanh', 'logistic']\n",
    "}\n",
    "\n",
    "mlp_grid_search = GridSearchCV(mlp_best, mlp_param_grid, 'f1', cv=5, verbose=2)\n",
    "mlp_grid_search.fit(X_train_prepared, y_train)"
   ]
  },
  {
   "cell_type": "code",
   "execution_count": 67,
   "metadata": {},
   "outputs": [
    {
     "name": "stdout",
     "output_type": "stream",
     "text": [
      "Fitting 5 folds for each of 4 candidates, totalling 20 fits\n",
      "[CV] n_estimators=10 .................................................\n"
     ]
    },
    {
     "name": "stderr",
     "output_type": "stream",
     "text": [
      "[Parallel(n_jobs=1)]: Using backend SequentialBackend with 1 concurrent workers.\n"
     ]
    },
    {
     "name": "stdout",
     "output_type": "stream",
     "text": [
      "[CV] .................................. n_estimators=10, total=   1.3s\n",
      "[CV] n_estimators=10 .................................................\n"
     ]
    },
    {
     "name": "stderr",
     "output_type": "stream",
     "text": [
      "[Parallel(n_jobs=1)]: Done   1 out of   1 | elapsed:    1.3s remaining:    0.0s\n"
     ]
    },
    {
     "name": "stdout",
     "output_type": "stream",
     "text": [
      "[CV] .................................. n_estimators=10, total=   1.5s\n",
      "[CV] n_estimators=10 .................................................\n",
      "[CV] .................................. n_estimators=10, total=   1.3s\n",
      "[CV] n_estimators=10 .................................................\n",
      "[CV] .................................. n_estimators=10, total=   1.3s\n",
      "[CV] n_estimators=10 .................................................\n",
      "[CV] .................................. n_estimators=10, total=   1.3s\n",
      "[CV] n_estimators=30 .................................................\n",
      "[CV] .................................. n_estimators=30, total=   4.0s\n",
      "[CV] n_estimators=30 .................................................\n",
      "[CV] .................................. n_estimators=30, total=   4.0s\n",
      "[CV] n_estimators=30 .................................................\n",
      "[CV] .................................. n_estimators=30, total=   3.9s\n",
      "[CV] n_estimators=30 .................................................\n",
      "[CV] .................................. n_estimators=30, total=   4.0s\n",
      "[CV] n_estimators=30 .................................................\n",
      "[CV] .................................. n_estimators=30, total=   4.0s\n",
      "[CV] n_estimators=50 .................................................\n",
      "[CV] .................................. n_estimators=50, total=   6.3s\n",
      "[CV] n_estimators=50 .................................................\n",
      "[CV] .................................. n_estimators=50, total=   6.9s\n",
      "[CV] n_estimators=50 .................................................\n",
      "[CV] .................................. n_estimators=50, total=   6.0s\n",
      "[CV] n_estimators=50 .................................................\n",
      "[CV] .................................. n_estimators=50, total=   6.2s\n",
      "[CV] n_estimators=50 .................................................\n",
      "[CV] .................................. n_estimators=50, total=   6.4s\n",
      "[CV] n_estimators=100 ................................................\n",
      "[CV] ................................. n_estimators=100, total=  12.3s\n",
      "[CV] n_estimators=100 ................................................\n",
      "[CV] ................................. n_estimators=100, total=  12.8s\n",
      "[CV] n_estimators=100 ................................................\n",
      "[CV] ................................. n_estimators=100, total=  12.4s\n",
      "[CV] n_estimators=100 ................................................\n",
      "[CV] ................................. n_estimators=100, total=  12.3s\n",
      "[CV] n_estimators=100 ................................................\n",
      "[CV] ................................. n_estimators=100, total=  12.7s\n"
     ]
    },
    {
     "name": "stderr",
     "output_type": "stream",
     "text": [
      "[Parallel(n_jobs=1)]: Done  20 out of  20 | elapsed:  2.1min finished\n"
     ]
    },
    {
     "data": {
      "text/plain": [
       "GridSearchCV(cv=5, error_score='raise-deprecating',\n",
       "       estimator=AdaBoostClassifier(algorithm='SAMME.R', base_estimator=None,\n",
       "          learning_rate=1.0, n_estimators=50, random_state=None),\n",
       "       fit_params=None, iid='warn', n_jobs=None,\n",
       "       param_grid={'n_estimators': [10, 30, 50, 100]},\n",
       "       pre_dispatch='2*n_jobs', refit=True, return_train_score='warn',\n",
       "       scoring='f1', verbose=2)"
      ]
     },
     "execution_count": 67,
     "metadata": {},
     "output_type": "execute_result"
    }
   ],
   "source": [
    "# fine-tune AdaBoost classifier\n",
    "adaboost_best = AdaBoostClassifier()\n",
    "adaboost_param_grid = {\n",
    "    'n_estimators': [10, 30, 50, 100]\n",
    "}\n",
    "\n",
    "adaboost_grid_search = GridSearchCV(adaboost_best, adaboost_param_grid, 'f1', cv=5, verbose=2)\n",
    "adaboost_grid_search.fit(X_train_prepared, y_train)"
   ]
  },
  {
   "cell_type": "code",
   "execution_count": 69,
   "metadata": {},
   "outputs": [
    {
     "name": "stdout",
     "output_type": "stream",
     "text": [
      "Fitting 5 folds for each of 5 candidates, totalling 25 fits\n",
      "[CV] C=629.782329591372, gamma=3.010121430917521, kernel=linear ......\n"
     ]
    },
    {
     "name": "stderr",
     "output_type": "stream",
     "text": [
      "[Parallel(n_jobs=1)]: Using backend SequentialBackend with 1 concurrent workers.\n"
     ]
    },
    {
     "name": "stdout",
     "output_type": "stream",
     "text": [
      "[CV]  C=629.782329591372, gamma=3.010121430917521, kernel=linear, total=   1.2s\n",
      "[CV] C=629.782329591372, gamma=3.010121430917521, kernel=linear ......\n"
     ]
    },
    {
     "name": "stderr",
     "output_type": "stream",
     "text": [
      "[Parallel(n_jobs=1)]: Done   1 out of   1 | elapsed:    1.9s remaining:    0.0s\n"
     ]
    },
    {
     "name": "stdout",
     "output_type": "stream",
     "text": [
      "[CV]  C=629.782329591372, gamma=3.010121430917521, kernel=linear, total=   1.1s\n",
      "[CV] C=629.782329591372, gamma=3.010121430917521, kernel=linear ......\n",
      "[CV]  C=629.782329591372, gamma=3.010121430917521, kernel=linear, total=   1.2s\n",
      "[CV] C=629.782329591372, gamma=3.010121430917521, kernel=linear ......\n",
      "[CV]  C=629.782329591372, gamma=3.010121430917521, kernel=linear, total=   1.1s\n",
      "[CV] C=629.782329591372, gamma=3.010121430917521, kernel=linear ......\n",
      "[CV]  C=629.782329591372, gamma=3.010121430917521, kernel=linear, total=   1.1s\n",
      "[CV] C=26290.206464300216, gamma=0.9084469696321253, kernel=rbf ......\n",
      "[CV]  C=26290.206464300216, gamma=0.9084469696321253, kernel=rbf, total=   6.0s\n",
      "[CV] C=26290.206464300216, gamma=0.9084469696321253, kernel=rbf ......\n",
      "[CV]  C=26290.206464300216, gamma=0.9084469696321253, kernel=rbf, total=   5.8s\n",
      "[CV] C=26290.206464300216, gamma=0.9084469696321253, kernel=rbf ......\n",
      "[CV]  C=26290.206464300216, gamma=0.9084469696321253, kernel=rbf, total=   5.7s\n",
      "[CV] C=26290.206464300216, gamma=0.9084469696321253, kernel=rbf ......\n",
      "[CV]  C=26290.206464300216, gamma=0.9084469696321253, kernel=rbf, total=   5.8s\n",
      "[CV] C=26290.206464300216, gamma=0.9084469696321253, kernel=rbf ......\n",
      "[CV]  C=26290.206464300216, gamma=0.9084469696321253, kernel=rbf, total=   5.7s\n",
      "[CV] C=84.14107900575871, gamma=0.059838768608680676, kernel=rbf .....\n",
      "[CV]  C=84.14107900575871, gamma=0.059838768608680676, kernel=rbf, total=   5.8s\n",
      "[CV] C=84.14107900575871, gamma=0.059838768608680676, kernel=rbf .....\n",
      "[CV]  C=84.14107900575871, gamma=0.059838768608680676, kernel=rbf, total=   5.8s\n",
      "[CV] C=84.14107900575871, gamma=0.059838768608680676, kernel=rbf .....\n",
      "[CV]  C=84.14107900575871, gamma=0.059838768608680676, kernel=rbf, total=   5.8s\n",
      "[CV] C=84.14107900575871, gamma=0.059838768608680676, kernel=rbf .....\n",
      "[CV]  C=84.14107900575871, gamma=0.059838768608680676, kernel=rbf, total=   6.0s\n",
      "[CV] C=84.14107900575871, gamma=0.059838768608680676, kernel=rbf .....\n",
      "[CV]  C=84.14107900575871, gamma=0.059838768608680676, kernel=rbf, total=   6.0s\n",
      "[CV] C=432.37884813148855, gamma=0.15416196746656105, kernel=linear ..\n",
      "[CV]  C=432.37884813148855, gamma=0.15416196746656105, kernel=linear, total=   1.1s\n",
      "[CV] C=432.37884813148855, gamma=0.15416196746656105, kernel=linear ..\n",
      "[CV]  C=432.37884813148855, gamma=0.15416196746656105, kernel=linear, total=   1.1s\n",
      "[CV] C=432.37884813148855, gamma=0.15416196746656105, kernel=linear ..\n",
      "[CV]  C=432.37884813148855, gamma=0.15416196746656105, kernel=linear, total=   1.2s\n",
      "[CV] C=432.37884813148855, gamma=0.15416196746656105, kernel=linear ..\n",
      "[CV]  C=432.37884813148855, gamma=0.15416196746656105, kernel=linear, total=   1.1s\n",
      "[CV] C=432.37884813148855, gamma=0.15416196746656105, kernel=linear ..\n",
      "[CV]  C=432.37884813148855, gamma=0.15416196746656105, kernel=linear, total=   1.1s\n",
      "[CV] C=24.17508294611391, gamma=3.503557475158312, kernel=rbf ........\n",
      "[CV]  C=24.17508294611391, gamma=3.503557475158312, kernel=rbf, total=   5.8s\n",
      "[CV] C=24.17508294611391, gamma=3.503557475158312, kernel=rbf ........\n",
      "[CV]  C=24.17508294611391, gamma=3.503557475158312, kernel=rbf, total=   6.1s\n",
      "[CV] C=24.17508294611391, gamma=3.503557475158312, kernel=rbf ........\n",
      "[CV]  C=24.17508294611391, gamma=3.503557475158312, kernel=rbf, total=   5.7s\n",
      "[CV] C=24.17508294611391, gamma=3.503557475158312, kernel=rbf ........\n",
      "[CV]  C=24.17508294611391, gamma=3.503557475158312, kernel=rbf, total=   6.2s\n",
      "[CV] C=24.17508294611391, gamma=3.503557475158312, kernel=rbf ........\n",
      "[CV]  C=24.17508294611391, gamma=3.503557475158312, kernel=rbf, total=   5.8s\n"
     ]
    },
    {
     "name": "stderr",
     "output_type": "stream",
     "text": [
      "[Parallel(n_jobs=1)]: Done  25 out of  25 | elapsed:  2.9min finished\n"
     ]
    },
    {
     "data": {
      "text/plain": [
       "RandomizedSearchCV(cv=5, error_score='raise-deprecating',\n",
       "          estimator=SVC(C=1.0, cache_size=200, class_weight=None, coef0=0.0,\n",
       "  decision_function_shape='ovr', degree=3, gamma='auto_deprecated',\n",
       "  kernel='rbf', max_iter=-1, probability=False, random_state=None,\n",
       "  shrinking=True, tol=0.001, verbose=False),\n",
       "          fit_params=None, iid='warn', n_iter=5, n_jobs=None,\n",
       "          param_distributions={'kernel': ['linear', 'rbf'], 'C': <scipy.stats._distn_infrastructure.rv_frozen object at 0x7fea9417f2e8>, 'gamma': <scipy.stats._distn_infrastructure.rv_frozen object at 0x7fea9417fda0>},\n",
       "          pre_dispatch='2*n_jobs', random_state=42, refit=True,\n",
       "          return_train_score='warn', scoring='f1', verbose=2)"
      ]
     },
     "execution_count": 69,
     "metadata": {},
     "output_type": "execute_result"
    }
   ],
   "source": [
    "from sklearn.model_selection import RandomizedSearchCV\n",
    "import scipy.stats\n",
    "\n",
    "# fine-tune SVM classifier\n",
    "svm_best = SVC()\n",
    "svm_param_dist = {\n",
    "    'kernel': ['linear', 'rbf'],\n",
    "    'C': scipy.stats.reciprocal(20, 200000),\n",
    "    'gamma': scipy.stats.expon(scale=1.0)\n",
    "}\n",
    "\n",
    "svm_randomized_search = RandomizedSearchCV(svm_best, svm_param_dist, n_iter=5, scoring='f1',\n",
    "                                           cv=5, verbose=2, random_state=42)\n",
    "svm_randomized_search.fit(X_train_prepared, y_train)"
   ]
  },
  {
   "cell_type": "code",
   "execution_count": 70,
   "metadata": {},
   "outputs": [],
   "source": [
    "import joblib\n",
    "\n",
    "def save_model(model, filename):\n",
    "    # create directory if it doesn't exist\n",
    "    if not os.path.isdir(MODELS_DIR):\n",
    "        os.makedirs(MODELS_DIR)\n",
    "        \n",
    "    path = os.path.join(MODELS_DIR, filename)\n",
    "    joblib.dump(model, path)"
   ]
  },
  {
   "cell_type": "code",
   "execution_count": 71,
   "metadata": {},
   "outputs": [],
   "source": [
    "# get the best estimators\n",
    "mlp_best = mlp_grid_search.best_estimator_\n",
    "adaboost_best = adaboost_grid_search.best_estimator_\n",
    "svm_best = svm_randomized_search.best_estimator_\n",
    "\n",
    "# save each model\n",
    "save_model(mlp_best, 'mlp_best.pkl')\n",
    "save_model(adaboost_best, 'adaboost_best.pkl')\n",
    "save_model(svm_best, 'svm_best.pkl')"
   ]
  },
  {
   "cell_type": "code",
   "execution_count": 72,
   "metadata": {},
   "outputs": [
    {
     "name": "stdout",
     "output_type": "stream",
     "text": [
      "MLP:\n",
      "[[1320    0]\n",
      " [   1 1115]]\n",
      "precision: 1.0\n",
      "recall: 0.9991039426523297\n",
      "f1-score: 0.9995517705064992\n",
      "accuracy: 0.9995894909688013\n",
      "\n",
      "AdaBoost:\n",
      "[[1315    5]\n",
      " [  10 1106]]\n",
      "precision: 0.9954995499549955\n",
      "recall: 0.9910394265232975\n",
      "f1-score: 0.9932644813650651\n",
      "accuracy: 0.9938423645320197\n",
      "\n",
      "SVM:\n",
      "[[1320    0]\n",
      " [   0 1116]]\n",
      "precision: 1.0\n",
      "recall: 1.0\n",
      "f1-score: 1.0\n",
      "accuracy: 1.0\n",
      "\n"
     ]
    }
   ],
   "source": [
    "# evaluate each model on the training set\n",
    "best_clf = {\n",
    "    'MLP': mlp_best,\n",
    "    'AdaBoost': adaboost_best,\n",
    "    'SVM': svm_best\n",
    "}\n",
    "\n",
    "for clf_name, clf in best_clf.items():\n",
    "    y_pred = clf.predict(X_train_prepared)\n",
    "    conf = eval_confusion(y_pred, y_train)\n",
    "    print(\"{}:\".format(clf_name))\n",
    "    print(conf['matrix'])\n",
    "    print(\"precision: {}\".format(conf['precision']))\n",
    "    print(\"recall: {}\".format(conf['recall']))\n",
    "    print(\"f1-score: {}\".format(conf['f1']))\n",
    "    print(\"accuracy: {}\".format(accuracy_score(y_pred, y_train)))\n",
    "    print()"
   ]
  },
  {
   "cell_type": "code",
   "execution_count": 73,
   "metadata": {},
   "outputs": [
    {
     "name": "stdout",
     "output_type": "stream",
     "text": [
      "MLP:\n",
      "[[325   5]\n",
      " [  3 277]]\n",
      "precision: 0.9822695035460993\n",
      "recall: 0.9892857142857143\n",
      "f1-score: 0.9857651245551601\n",
      "accuracy: 0.9868852459016394\n",
      "\n",
      "AdaBoost:\n",
      "[[321   9]\n",
      " [  5 275]]\n",
      "precision: 0.9683098591549296\n",
      "recall: 0.9821428571428571\n",
      "f1-score: 0.975177304964539\n",
      "accuracy: 0.9770491803278688\n",
      "\n",
      "SVM:\n",
      "[[322   8]\n",
      " [  2 278]]\n",
      "precision: 0.972027972027972\n",
      "recall: 0.9928571428571429\n",
      "f1-score: 0.9823321554770317\n",
      "accuracy: 0.9836065573770492\n",
      "\n"
     ]
    }
   ],
   "source": [
    "# prepare the test dataset\n",
    "X_test_prepared = prepare_pipeline.transform(X_test)\n",
    "\n",
    "# evaluate each model on the test set\n",
    "for clf_name, clf in best_clf.items():\n",
    "    y_pred = clf.predict(X_test_prepared)\n",
    "    conf = eval_confusion(y_pred, y_test)\n",
    "    print(\"{}:\".format(clf_name))\n",
    "    print(conf['matrix'])\n",
    "    print(\"precision: {}\".format(conf['precision']))\n",
    "    print(\"recall: {}\".format(conf['recall']))\n",
    "    print(\"f1-score: {}\".format(conf['f1']))\n",
    "    print(\"accuracy: {}\".format(accuracy_score(y_pred, y_test)))\n",
    "    print()\n",
    "    "
   ]
  },
  {
   "cell_type": "markdown",
   "metadata": {},
   "source": [
    "The best classifier is the MLP classifier with about:\n",
    "- 98.7% accuracy\n",
    "- 98.2% precision\n",
    "- 98.9% recall"
   ]
  }
 ],
 "metadata": {
  "kernelspec": {
   "display_name": "Python 3",
   "language": "python",
   "name": "python3"
  },
  "language_info": {
   "codemirror_mode": {
    "name": "ipython",
    "version": 3
   },
   "file_extension": ".py",
   "mimetype": "text/x-python",
   "name": "python",
   "nbconvert_exporter": "python",
   "pygments_lexer": "ipython3",
   "version": "3.6.8"
  }
 },
 "nbformat": 4,
 "nbformat_minor": 2
}
